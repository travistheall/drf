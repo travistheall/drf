{
 "cells": [
  {
   "cell_type": "code",
   "execution_count": 1,
   "id": "59e6580f-b880-4442-9cb1-6ec2a945b02d",
   "metadata": {
    "tags": [],
    "pycharm": {
     "name": "#%%\n"
    }
   },
   "outputs": [],
   "source": [
    "import ast\n",
    "import astor\n",
    "import showast\n",
    "from pprint import pprint\n",
    "from packaging import version\n",
    "from typing import List, Dict"
   ]
  },
  {
   "cell_type": "code",
   "execution_count": 2,
   "id": "c2697505-80e5-45d3-b4bf-87ab8331a9fa",
   "metadata": {
    "pycharm": {
     "name": "#%%\n"
    }
   },
   "outputs": [],
   "source": [
    "class MyNode(object):\n",
    "    \"\"\"\n",
    "    _file: str = file\n",
    "        self.ver: version.Version = version.Version(ver)\n",
    "        with open(file, \"r\") as f:\n",
    "            self.file_ast: str = ast.parse(f.read())\n",
    "        self.name: str = node_name\n",
    "        self.node: ast.ClassDef = self.node()\n",
    "        self.methods: Dict[str: list[str]] = {\n",
    "            node.name: self.get_fn_args(node) \n",
    "            for node in self.node.body \n",
    "            if isinstance(node, ast.FunctionDef)\n",
    "        }\n",
    "        self.meth_names: List[str] = list(self.methods.keys())\n",
    "    \"\"\"\n",
    "    def __init__(self, file: str, ver: str, node_name: str):\n",
    "        self._file: str = file\n",
    "        self.ver: version.Version = version.Version(ver)\n",
    "        with open(file, \"r\") as f:\n",
    "            self.file_ast: str = ast.parse(f.read())\n",
    "        self.name: str = node_name\n",
    "        self.node: ast.ClassDef = self.node()\n",
    "        self.methods: Dict[str: list[str]] = {\n",
    "            node.name: self.get_fn_args(node) \n",
    "            for node in self.node.body \n",
    "            if isinstance(node, ast.FunctionDef)\n",
    "        }\n",
    "        self.meth_names: List[str] = list(self.methods.keys())\n",
    "\n",
    "    def node(self) -> ast.ClassDef:\n",
    "        for node in self.file_ast.body:\n",
    "            if isinstance(node, ast.ClassDef) and node.name == self.name:\n",
    "                return node\n",
    "        \n",
    "    @staticmethod\n",
    "    def get_fn_args(functionNode: ast.FunctionDef) -> List[str]:\n",
    "        return [arg.arg for arg in functionNode.args.args]\n",
    "\n",
    "    def __str__(self) -> str:\n",
    "        return self.name\n",
    "    \n",
    "    def __repr__(self) -> str:\n",
    "        return f\"Node from AST path{self.name}\"\n",
    "    \n",
    "    def __gt__(self, other_node) -> bool:\n",
    "        return self.ver > other_node.ver\n",
    "    \n",
    "    def __ge__(self, other_node) -> bool:\n",
    "        return self.ver >= other_node.ver\n",
    "    \n",
    "    def __lt__(self, other_node) -> bool:\n",
    "        return self.ver < other_node.ver\n",
    "    \n",
    "    def __le__(self, other_node) -> bool:\n",
    "        return self.ver <= other_node.ver\n",
    "    \n",
    "    def __ne__(self, other_node) -> bool:\n",
    "        return self.ver != other_node.ver\n",
    "    \n",
    "    def __eq__(self, other_node) -> bool:\n",
    "        return self.ver == other_node.ver\n",
    "    \n",
    "    def diff_methods(self, other_node) -> bool:\n",
    "        older, newer = other_node, self\n",
    "        if self > other_node:\n",
    "            older, newer = self, other_node\n",
    "        \n",
    "        meths: Dict[str: List[str]] = {}\n",
    "        meths['added'] = [n for n in newer.meth_names if n not in older.meth_names]\n",
    "        meths['removed'] = [n for n in older.meth_names if n not in newer.meth_names]\n",
    "        return meths\n",
    "        \n",
    "\n",
    "schema9 = MyNode(file=\"drf394/rest_framework/schemas/generators.py\", ver=\"3.9.4\", node_name=\"SchemaGenerator\")\n",
    "schema6 = MyNode(file=\"drf362/rest_framework/schemas.py\", ver=\"3.6.2\", node_name=\"SchemaGenerator\")"
   ]
  },
  {
   "cell_type": "code",
   "execution_count": 3,
   "id": "163f1c20-e0f8-4286-a221-ec3384b91297",
   "metadata": {
    "pycharm": {
     "name": "#%%\n"
    }
   },
   "outputs": [
    {
     "name": "stdout",
     "output_type": "stream",
     "text": [
      "{'__init__': ['self', 'title', 'url', 'description', 'patterns', 'urlconf'],\n",
      " 'coerce_path': ['self', 'path', 'method', 'view'],\n",
      " 'create_view': ['self', 'callback', 'method', 'request'],\n",
      " 'determine_path_prefix': ['self', 'paths'],\n",
      " 'get_keys': ['self', 'subpath', 'method', 'view'],\n",
      " 'get_links': ['self', 'request'],\n",
      " 'get_schema': ['self', 'request', 'public'],\n",
      " 'has_view_permissions': ['self', 'path', 'method', 'view']}\n"
     ]
    }
   ],
   "source": [
    "pprint(schema9.methods)"
   ]
  },
  {
   "cell_type": "code",
   "execution_count": 4,
   "id": "f4373f19-e39b-4012-bccc-f7999daddd25",
   "metadata": {
    "tags": [],
    "pycharm": {
     "name": "#%%\n"
    }
   },
   "outputs": [
    {
     "name": "stdout",
     "output_type": "stream",
     "text": [
      "{'added': ['get_link',\n",
      "           'get_description',\n",
      "           'get_encoding',\n",
      "           'get_path_fields',\n",
      "           'get_serializer_fields',\n",
      "           'get_pagination_fields',\n",
      "           'get_filter_fields'],\n",
      " 'removed': []}\n"
     ]
    }
   ],
   "source": [
    "pprint(schema6.diff_methods(schema9))"
   ]
  },
  {
   "cell_type": "code",
   "execution_count": null,
   "id": "dbb4967c-ddbc-4ce5-9c77-f2b353f61199",
   "metadata": {
    "pycharm": {
     "name": "#%%\n"
    }
   },
   "outputs": [],
   "source": []
  },
  {
   "cell_type": "code",
   "execution_count": null,
   "id": "06b25918-1a85-4b5f-8027-d9cda83843dc",
   "metadata": {
    "pycharm": {
     "name": "#%%\n"
    }
   },
   "outputs": [],
   "source": []
  },
  {
   "cell_type": "code",
   "execution_count": null,
   "id": "54e1f96c-0e34-466b-90b9-de1a726ed147",
   "metadata": {
    "pycharm": {
     "name": "#%%\n"
    }
   },
   "outputs": [],
   "source": []
  },
  {
   "cell_type": "code",
   "execution_count": null,
   "id": "e3a53564-9648-46da-8043-1b7fa39151e8",
   "metadata": {
    "pycharm": {
     "name": "#%%\n"
    }
   },
   "outputs": [],
   "source": []
  },
  {
   "cell_type": "code",
   "execution_count": null,
   "id": "7a75048b-bee1-429a-a403-ea033e71d593",
   "metadata": {
    "pycharm": {
     "name": "#%%\n"
    }
   },
   "outputs": [],
   "source": []
  }
 ],
 "metadata": {
  "kernelspec": {
   "display_name": "Python 3 (ipykernel)",
   "language": "python",
   "name": "python3"
  },
  "language_info": {
   "codemirror_mode": {
    "name": "ipython",
    "version": 3
   },
   "file_extension": ".py",
   "mimetype": "text/x-python",
   "name": "python",
   "nbconvert_exporter": "python",
   "pygments_lexer": "ipython3",
   "version": "3.8.2"
  }
 },
 "nbformat": 4,
 "nbformat_minor": 5
}