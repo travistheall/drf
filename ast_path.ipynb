{
 "cells": [
  {
   "cell_type": "code",
   "execution_count": 1,
   "id": "59e6580f-b880-4442-9cb1-6ec2a945b02d",
   "metadata": {
    "pycharm": {
     "name": "#%%\n"
    },
    "tags": []
   },
   "outputs": [],
   "source": [
    "import ast\n",
    "import astor\n",
    "import showast\n",
    "from pprint import pprint\n",
    "from packaging import version\n",
    "from typing import List, Dict\n",
    "import os\n"
   ]
  },
  {
   "cell_type": "code",
   "execution_count": null,
   "id": "d53e67a2",
   "metadata": {},
   "outputs": [],
   "source": [
    "%%sh\n",
    "cd drf362\n",
    "git diff --name-only tags/3.6.2 tags/3.9.4 **/*.py > ../mod_files_6_to_9.txt\n",
    "cd ../drf394\n",
    "git diff --name-only tags/3.9.4 tags/3.6.2 **/*.py > ../mod_files_9_to_6.txt\n",
    "cd .."
   ]
  },
  {
   "cell_type": "markdown",
   "id": "48b4a1d3",
   "metadata": {},
   "source": [
    "<ul>\n",
    "    <li><a href=\"https://stackoverflow.com/questions/44698193/how-to-get-a-list-of-classes-and-functions-from-a-python-file-without-importing\">StackOverflow: How to get a list of classes and functions from a python file without importing it</a></li>\n",
    "    <li><a href=\"https://www.youtube.com/watch?v=Yq3wTWkoaYY\">Youtube: europython-2018</a></li>\n",
    "    <li><a href=\"https://github.com/hchasestevens/europython-2018\">Github: europython-2018</a></li>\n",
    "    <li><a href=\"https://github.com/berkerpeksag/astor\">astor</a></li>\n",
    "    <li><a href=\"https://github.com/hchasestevens/show_ast\">show_ast</a></li>\n",
    "    <li><a href=\"https://github.com/takluyver/astsearch\">astsearch</a></li>\n",
    "    <li><a href=\"https://github.com/hchasestevens/astpath\">astpath</a></li>\n",
    "    <li><a href=\"https://github.com/hchasestevens/bellybutton\">bellybutton</a></li>\n",
    "    <li><a href=\"https://greentreesnakes.readthedocs.io/en/latest/\">greentreesnakes</a></li>\n",
    "    <li><a href=\"https://python-ast-explorer.com/\">python-ast-explorer</a></li>\n",
    "    <li><a href=\"https://github.com/hchasestevens/asttools\">asttools</a></li>\n",
    "    <li><a href=\"https://github.com/ponyorm/pony\">pony</a></li>\n",
    "    <li><a href=\"https://github.com/hchasestevens/xpyth\">xpyth</a></li>\n",
    "    <li><a href=\"https://github.com/sixty-north/cosmic-ray\">cosmic-ray</a></li>\n",
    "</ul>"
   ]
  },
  {
   "cell_type": "code",
   "execution_count": 48,
   "id": "c2697505-80e5-45d3-b4bf-87ab8331a9fa",
   "metadata": {
    "pycharm": {
     "name": "#%%\n"
    }
   },
   "outputs": [
    {
     "name": "stdout",
     "output_type": "stream",
     "text": [
      "rest_framework/authentication.py\n"
     ]
    }
   ],
   "source": [
    "class FileNode(object):\n",
    "    def __init__(self, file: str, ver: str):\n",
    "        self._file = file\n",
    "        self.ver = version.Version(ver)\n",
    "        with open(file, \"r\") as f:\n",
    "            self.file_ast = ast.parse(f.read())\n",
    "        self.class_objects = {}\n",
    "        self.class_nodes = self.get_class_nodes()\n",
    "        self.build_class_obj()\n",
    "\n",
    "    def get_class_nodes(self):\n",
    "        nodes = []\n",
    "        for node in self.file_ast.body:\n",
    "            if isinstance(node, ast.ClassDef):\n",
    "                nodes.append(node)\n",
    "                self.class_objects[node.name] = {}\n",
    "\n",
    "        return nodes\n",
    "\n",
    "    def build_class_obj(self):\n",
    "        for node in self.class_nodes:\n",
    "            class_name = f\"{node.name}\"\n",
    "            self.class_objects[class_name][\"Parent\"] = [b.id for b in node.bases]\n",
    "            self.class_objects[class_name][\"Methods\"] = [\n",
    "                {fn.name: self.get_fn_args(fn)}\n",
    "                for fn in node.body\n",
    "                if isinstance(fn, ast.FunctionDef)\n",
    "            ]\n",
    "\n",
    "    @staticmethod\n",
    "    def get_fn_args(functionNode: ast.FunctionDef):\n",
    "        return [arg.arg for arg in functionNode.args.args]\n",
    "\n",
    "    def display_class_info(self):\n",
    "        for cls_name, values in self.class_objects.items():\n",
    "            print(\"Class name:\", cls_name)\n",
    "            print(\"Inherits from: \")\n",
    "            for parent in values[\"Parent\"]:\n",
    "                 print(parent)\n",
    "            print(\"Has these methods: \")\n",
    "            for method in values[\"Methods\"]:\n",
    "                self.display_method_info(method.keys(), method.values())\n",
    "\n",
    "\n",
    "    @staticmethod\n",
    "    def display_method_info(name, args):\n",
    "        print(\"Function name:\", name)\n",
    "        print(\"Args:\")\n",
    "        for arg in args:\n",
    "            print(\"\\tParameter name:\", arg)\n",
    "\n",
    "    def __str__(self):\n",
    "        return self._file\n",
    "    \n",
    "    def __repr__(self):\n",
    "        return f\"File nodes from AST path: {self._file}\"\n",
    "    \n",
    "    def __gt__(self, other_node):\n",
    "        return self.ver > other_node.ver\n",
    "    \n",
    "    def __ge__(self, other_node):\n",
    "        return self.ver >= other_node.ver\n",
    "    \n",
    "    def __lt__(self, other_node):\n",
    "        return self.ver < other_node.ver\n",
    "    \n",
    "    def __le__(self, other_node):\n",
    "        return self.ver <= other_node.ver\n",
    "    \n",
    "    def __ne__(self, other_node):\n",
    "        return self.ver != other_node.ver\n",
    "    \n",
    "    def __eq__(self, other_node):\n",
    "        return self.ver == other_node.ver\n",
    "\n",
    "\n",
    "\n",
    "with open(\"mod_files_6_to_9.txt\", \"r\") as f:\n",
    "    mod_files_6_to_9 = f.read()\n",
    "\n",
    "mod_files_6_to_9 = mod_files_6_to_9.split(\"\\n\")\n",
    "mod_files_6_to_9 = [f for f in mod_files_6_to_9 if \"__init__.py\" not in f]\n",
    "print(mod_files_6_to_9[0])\n",
    "file_node_6 = FileNode(file=f\"drf362/{mod_files_6_to_9[0]}\", ver=\"3.6.2\")\n",
    "        "
   ]
  },
  {
   "cell_type": "code",
   "execution_count": 50,
   "id": "5eccad62",
   "metadata": {},
   "outputs": [
    {
     "name": "stdout",
     "output_type": "stream",
     "text": [
      "Class name: CSRFCheck\n",
      "Inherits from: \n",
      "CsrfViewMiddleware\n",
      "Has these methods: \n",
      "Function name: dict_keys(['_reject'])\n",
      "Args:\n",
      "\tParameter name: ['self', 'request', 'reason']\n",
      "Class name: BaseAuthentication\n",
      "Inherits from: \n",
      "object\n",
      "Has these methods: \n",
      "Function name: dict_keys(['authenticate'])\n",
      "Args:\n",
      "\tParameter name: ['self', 'request']\n",
      "Function name: dict_keys(['authenticate_header'])\n",
      "Args:\n",
      "\tParameter name: ['self', 'request']\n",
      "Class name: BasicAuthentication\n",
      "Inherits from: \n",
      "BaseAuthentication\n",
      "Has these methods: \n",
      "Function name: dict_keys(['authenticate'])\n",
      "Args:\n",
      "\tParameter name: ['self', 'request']\n",
      "Function name: dict_keys(['authenticate_credentials'])\n",
      "Args:\n",
      "\tParameter name: ['self', 'userid', 'password']\n",
      "Function name: dict_keys(['authenticate_header'])\n",
      "Args:\n",
      "\tParameter name: ['self', 'request']\n",
      "Class name: SessionAuthentication\n",
      "Inherits from: \n",
      "BaseAuthentication\n",
      "Has these methods: \n",
      "Function name: dict_keys(['authenticate'])\n",
      "Args:\n",
      "\tParameter name: ['self', 'request']\n",
      "Function name: dict_keys(['enforce_csrf'])\n",
      "Args:\n",
      "\tParameter name: ['self', 'request']\n",
      "Class name: TokenAuthentication\n",
      "Inherits from: \n",
      "BaseAuthentication\n",
      "Has these methods: \n",
      "Function name: dict_keys(['get_model'])\n",
      "Args:\n",
      "\tParameter name: ['self']\n",
      "Function name: dict_keys(['authenticate'])\n",
      "Args:\n",
      "\tParameter name: ['self', 'request']\n",
      "Function name: dict_keys(['authenticate_credentials'])\n",
      "Args:\n",
      "\tParameter name: ['self', 'key']\n",
      "Function name: dict_keys(['authenticate_header'])\n",
      "Args:\n",
      "\tParameter name: ['self', 'request']\n"
     ]
    }
   ],
   "source": [
    "file_node.display_class_info()"
   ]
  },
  {
   "cell_type": "code",
   "execution_count": null,
   "id": "06b25918-1a85-4b5f-8027-d9cda83843dc",
   "metadata": {
    "pycharm": {
     "name": "#%%\n"
    }
   },
   "outputs": [],
   "source": [
    "\n"
   ]
  },
  {
   "cell_type": "code",
   "execution_count": null,
   "id": "c6badb99",
   "metadata": {},
   "outputs": [],
   "source": []
  }
 ],
 "metadata": {
  "interpreter": {
   "hash": "93b7f8c37e023d5d98bc653dbfd628f69063630ad6c81f4ab24a49f7527da7a7"
  },
  "kernelspec": {
   "display_name": "Python 3.9.12 ('ast')",
   "language": "python",
   "name": "python3"
  },
  "language_info": {
   "codemirror_mode": {
    "name": "ipython",
    "version": 3
   },
   "file_extension": ".py",
   "mimetype": "text/x-python",
   "name": "python",
   "nbconvert_exporter": "python",
   "pygments_lexer": "ipython3",
   "version": "3.9.12"
  }
 },
 "nbformat": 4,
 "nbformat_minor": 5
}
